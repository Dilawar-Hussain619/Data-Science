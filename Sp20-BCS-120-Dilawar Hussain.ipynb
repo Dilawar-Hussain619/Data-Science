{
 "cells": [
  {
   "cell_type": "code",
   "execution_count": 36,
   "id": "6ed9d990",
   "metadata": {},
   "outputs": [
    {
     "name": "stdout",
     "output_type": "stream",
     "text": [
      "Product :  Sidr Honey عسل السدر \n",
      "Price :  From AED 34 AED \n",
      "\n",
      "Product :  Royal Sidr Honey عسل السدر الملكي \n",
      "Price :  From AED 40 AED \n",
      "\n",
      "Product :  Yemen Sidr Do'ani عسل السدر الدوعني اليمني \n",
      "Price :  From AED 90 AED \n",
      "\n",
      "Product :  Acacia Honey        عسل زهرة الاكاسيا \n",
      "Price :  From AED 16 AED \n",
      "\n",
      "Product :  Black Forest Honey عسل الغابته السوداء \n",
      "Price :  From AED 29 AED \n",
      "\n",
      "Product :  Orange Blossom Honey عسل زهرة ابرتقال \n",
      "Price :  From AED 20 AED \n",
      "\n",
      "Product :  Robinia Honey عسل نبته الروبينيا \n",
      "Price :  From AED 32 AED \n",
      "\n",
      "Product :  White Mountain Honey عسل الجبل الأبيض \n",
      "Price :  From AED 50 AED \n",
      "\n",
      "Product :  Buckwheat Honey عسل الحنطة السوداء \n",
      "Price :  From AED 40 AED \n",
      "\n",
      "Product :  Apple Blossom Honey عسل زهرة التفاح \n",
      "Price :  From AED 20 AED \n",
      "\n",
      "Product :  Sumra Honey عسل سمرة يمني \n",
      "Price :  From AED 60 AED \n",
      "\n",
      "Product :  Mara'ee Honey عسل مراعي يمني \n",
      "Price :  From AED 60 AED \n",
      "\n",
      "Product :  Gift Set: 5 Jars of 125g each \n",
      "Price :  AED 99 AED \n",
      "\n",
      "Product :  Gift Set: 4 Jars of 250g each \n",
      "Price :  AED 170 AED \n",
      "\n",
      "Product :  Sidr Honey Gift Box \n",
      "Price :  From AED 180 AED \n",
      "\n",
      "Product :  Sidr Honey & Yemen Mara'ee Honey \n",
      "Price :  AED 250 AED \n",
      "\n",
      "Product :  Sidr Honey & Acacia Honey \n",
      "Price :  AED 140 AED \n",
      "\n",
      "Product :  Robinia Honey & Acacia Honey \n",
      "Price :  AED 122 AED \n",
      "\n",
      "Product :  Sidr Honey & Black Forest Honey \n",
      "Price :  AED 165 AED \n",
      "\n",
      "Product :  Acacia Honey & Black Forest Honey \n",
      "Price :  AED 99 AED \n",
      "\n",
      "Product :  Sidr Honey & White Mountain Honey \n",
      "Price :  AED 199 AED \n",
      "\n",
      "Product :  Royal Sidr Honey & White Mountain Honey \n",
      "Price :  AED 190 AED \n",
      "\n",
      "Product :  Red Onion Oil زيت البصل \n",
      "Price :  AED 55 AED \n",
      "\n",
      "Product :  Black Seed Oil زيت الحبة السوداء \n",
      "Price :  AED 45 AED \n",
      "\n",
      "Product :  Sweet Almond Oil زيت اللوز الحلو \n",
      "Price :  AED 35 AED \n",
      "\n",
      "Product :  Sesame Seed Oil زيت السمسم \n",
      "Price :  AED 30 AED \n",
      "\n",
      "Product :  Castor Oil زيت الخروع \n",
      "Price :  AED 30 AED \n",
      "\n",
      "Product :  Glycerin Oil زيت الجلسرين \n",
      "Price :  AED 30 AED \n",
      "\n",
      "Product :  Mustard Oil زيت الخردل \n",
      "Price :  AED 35 AED \n",
      "\n",
      "Product :  Taramira Oil زيت جرجير \n",
      "Price :  AED 30 AED \n",
      "\n",
      "Product :  Emirati Cultured Desi Ghee  سمن  إماراتي \n",
      "Price :  From AED 45 AED \n",
      "\n",
      "Product :  Saffron زعفران \n",
      "Price :  From AED 18 AED \n",
      "\n",
      "Product :  Acacia Honey with Saffron عسل الأكاسيا بالزعفران \n",
      "Price :  From AED 34 AED \n",
      "\n"
     ]
    }
   ],
   "source": [
    "\n",
    "import requests\n",
    "from bs4 import BeautifulSoup\n",
    "url= \"https://simplythegreat.ae/\"\n",
    "r=requests.get(url)\n",
    "\n",
    "soup= BeautifulSoup(r.content,'html5lib')\n",
    "table = soup.findAll('div', attrs = {'class':'card-wrapper'})\n",
    "\n",
    "for div in table:\n",
    "    name = div.find('a' , attrs = {'class':'full-unstyled-link'})\n",
    "    price = div.find('span' , attrs={'class':'price-item--regular'})\n",
    "    print(\"Product : \",name.text.strip(),'\\nPrice : ',price.text.strip(), '\\n')\n",
    "    "
   ]
  },
  {
   "cell_type": "code",
   "execution_count": 26,
   "id": "6de460bc",
   "metadata": {},
   "outputs": [
    {
     "name": "stdout",
     "output_type": "stream",
     "text": [
      "<re.Match object; span=(4, 5), match='a'>\n"
     ]
    }
   ],
   "source": [
    "import re\n",
    "name= \"My name is Dilawar Hussain, Son of Iftikhar Hussain, brother of khawar Hussain\"\n",
    "word=re.search(r\"[a-e]\",name)\n",
    "finding=print(word)"
   ]
  },
  {
   "cell_type": "code",
   "execution_count": 54,
   "id": "0a3a42f7",
   "metadata": {},
   "outputs": [],
   "source": [
    "import re\n",
    "name= \"Hussain name is Dilawar Hussain, Son of Iftikhar Hussain, brother of khawar Hussain\"\n",
    "word=re.search(r\"\\n$\",name)\n",
    "\n",
    "#word = re.match.start()\n",
    "#print(finding)\n",
    "#for word in re.finditer(\"Hussain\",name)"
   ]
  },
  {
   "cell_type": "code",
   "execution_count": 53,
   "id": "a318dac2",
   "metadata": {},
   "outputs": [
    {
     "name": "stdout",
     "output_type": "stream",
     "text": [
      "[]\n"
     ]
    }
   ],
   "source": [
    "import re\n",
    "name= \"Hussain name is a Dilawar Hussain123, _. Son of Iftikhar Hussain, brother of khawar Hussain\"\n",
    "word=re.findall(r\"\\n$\",name)\n",
    "print(word)\n"
   ]
  },
  {
   "cell_type": "code",
   "execution_count": null,
   "id": "b39fc492",
   "metadata": {},
   "outputs": [],
   "source": []
  },
  {
   "cell_type": "code",
   "execution_count": null,
   "id": "07f7f506",
   "metadata": {},
   "outputs": [],
   "source": []
  }
 ],
 "metadata": {
  "kernelspec": {
   "display_name": "Python 3 (ipykernel)",
   "language": "python",
   "name": "python3"
  },
  "language_info": {
   "codemirror_mode": {
    "name": "ipython",
    "version": 3
   },
   "file_extension": ".py",
   "mimetype": "text/x-python",
   "name": "python",
   "nbconvert_exporter": "python",
   "pygments_lexer": "ipython3",
   "version": "3.9.12"
  }
 },
 "nbformat": 4,
 "nbformat_minor": 5
}
