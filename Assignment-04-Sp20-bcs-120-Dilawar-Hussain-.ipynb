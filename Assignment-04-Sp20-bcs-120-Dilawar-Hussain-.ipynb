{
 "cells": [
  {
   "cell_type": "code",
   "execution_count": 1,
   "id": "5d407437",
   "metadata": {},
   "outputs": [
    {
     "name": "stdout",
     "output_type": "stream",
     "text": [
      "Requirement already satisfied: scikit-plot in c:\\users\\dell\\anaconda3\\lib\\site-packages (0.3.7)\n",
      "Requirement already satisfied: scipy>=0.9 in c:\\users\\dell\\anaconda3\\lib\\site-packages (from scikit-plot) (1.9.1)\n",
      "Requirement already satisfied: joblib>=0.10 in c:\\users\\dell\\anaconda3\\lib\\site-packages (from scikit-plot) (1.1.0)\n",
      "Requirement already satisfied: matplotlib>=1.4.0 in c:\\users\\dell\\anaconda3\\lib\\site-packages (from scikit-plot) (3.5.2)\n",
      "Requirement already satisfied: scikit-learn>=0.18 in c:\\users\\dell\\anaconda3\\lib\\site-packages (from scikit-plot) (1.0.2)\n",
      "Requirement already satisfied: pyparsing>=2.2.1 in c:\\users\\dell\\anaconda3\\lib\\site-packages (from matplotlib>=1.4.0->scikit-plot) (3.0.9)\n",
      "Requirement already satisfied: numpy>=1.17 in c:\\users\\dell\\anaconda3\\lib\\site-packages (from matplotlib>=1.4.0->scikit-plot) (1.21.5)\n",
      "Requirement already satisfied: cycler>=0.10 in c:\\users\\dell\\anaconda3\\lib\\site-packages (from matplotlib>=1.4.0->scikit-plot) (0.11.0)\n",
      "Requirement already satisfied: fonttools>=4.22.0 in c:\\users\\dell\\anaconda3\\lib\\site-packages (from matplotlib>=1.4.0->scikit-plot) (4.25.0)\n",
      "Requirement already satisfied: kiwisolver>=1.0.1 in c:\\users\\dell\\anaconda3\\lib\\site-packages (from matplotlib>=1.4.0->scikit-plot) (1.4.2)\n",
      "Requirement already satisfied: python-dateutil>=2.7 in c:\\users\\dell\\anaconda3\\lib\\site-packages (from matplotlib>=1.4.0->scikit-plot) (2.8.2)\n",
      "Requirement already satisfied: packaging>=20.0 in c:\\users\\dell\\anaconda3\\lib\\site-packages (from matplotlib>=1.4.0->scikit-plot) (21.3)\n",
      "Requirement already satisfied: pillow>=6.2.0 in c:\\users\\dell\\anaconda3\\lib\\site-packages (from matplotlib>=1.4.0->scikit-plot) (9.2.0)\n",
      "Requirement already satisfied: threadpoolctl>=2.0.0 in c:\\users\\dell\\anaconda3\\lib\\site-packages (from scikit-learn>=0.18->scikit-plot) (2.2.0)\n",
      "Requirement already satisfied: six>=1.5 in c:\\users\\dell\\anaconda3\\lib\\site-packages (from python-dateutil>=2.7->matplotlib>=1.4.0->scikit-plot) (1.16.0)\n"
     ]
    }
   ],
   "source": [
    "#import libraries\n",
    "#install scikitplot\n",
    "!pip install scikit-plot\n",
    "from sklearn import preprocessing\n",
    "import pandas as pd\n",
    "\n",
    "#import different ML classifiers\n",
    "from sklearn.naive_bayes import GaussianNB, MultinomialNB\n",
    "from sklearn.svm import SVC, LinearSVC\n",
    "from sklearn.linear_model import LogisticRegression\n",
    "from sklearn.tree import DecisionTreeClassifier\n",
    "from sklearn.ensemble import RandomForestClassifier\n",
    "from sklearn.neural_network import MLPClassifier\n",
    "\n",
    "#import ML evaluation metrics\n",
    "from sklearn.metrics import accuracy_score, f1_score\n",
    "from sklearn.model_selection import train_test_split\n",
    "from sklearn import metrics, model_selection\n",
    "from sklearn.model_selection import LeavePOut, cross_val_score,ShuffleSplit\n",
    "#import scikitplot to plot confusion matrix\n",
    "import scikitplot as skplt\n",
    "\n"
   ]
  },
  {
   "cell_type": "code",
   "execution_count": 2,
   "id": "52b6b3aa",
   "metadata": {},
   "outputs": [
    {
     "data": {
      "text/html": [
       "<div>\n",
       "<style scoped>\n",
       "    .dataframe tbody tr th:only-of-type {\n",
       "        vertical-align: middle;\n",
       "    }\n",
       "\n",
       "    .dataframe tbody tr th {\n",
       "        vertical-align: top;\n",
       "    }\n",
       "\n",
       "    .dataframe thead th {\n",
       "        text-align: right;\n",
       "    }\n",
       "</style>\n",
       "<table border=\"1\" class=\"dataframe\">\n",
       "  <thead>\n",
       "    <tr style=\"text-align: right;\">\n",
       "      <th></th>\n",
       "      <th>height</th>\n",
       "      <th>weight</th>\n",
       "      <th>beard</th>\n",
       "      <th>hair_length</th>\n",
       "      <th>shoe_size</th>\n",
       "      <th>scarf</th>\n",
       "      <th>eye_color</th>\n",
       "      <th>gender</th>\n",
       "    </tr>\n",
       "  </thead>\n",
       "  <tbody>\n",
       "    <tr>\n",
       "      <th>0</th>\n",
       "      <td>71</td>\n",
       "      <td>176</td>\n",
       "      <td>yes</td>\n",
       "      <td>short</td>\n",
       "      <td>44</td>\n",
       "      <td>no</td>\n",
       "      <td>black</td>\n",
       "      <td>male</td>\n",
       "    </tr>\n",
       "    <tr>\n",
       "      <th>1</th>\n",
       "      <td>68</td>\n",
       "      <td>165</td>\n",
       "      <td>no</td>\n",
       "      <td>bald</td>\n",
       "      <td>41</td>\n",
       "      <td>no</td>\n",
       "      <td>black</td>\n",
       "      <td>male</td>\n",
       "    </tr>\n",
       "    <tr>\n",
       "      <th>2</th>\n",
       "      <td>62</td>\n",
       "      <td>132</td>\n",
       "      <td>no</td>\n",
       "      <td>medium</td>\n",
       "      <td>37</td>\n",
       "      <td>yes</td>\n",
       "      <td>blue</td>\n",
       "      <td>female</td>\n",
       "    </tr>\n",
       "    <tr>\n",
       "      <th>3</th>\n",
       "      <td>65</td>\n",
       "      <td>138</td>\n",
       "      <td>no</td>\n",
       "      <td>long</td>\n",
       "      <td>38</td>\n",
       "      <td>no</td>\n",
       "      <td>gray</td>\n",
       "      <td>female</td>\n",
       "    </tr>\n",
       "    <tr>\n",
       "      <th>4</th>\n",
       "      <td>70</td>\n",
       "      <td>197</td>\n",
       "      <td>yes</td>\n",
       "      <td>medium</td>\n",
       "      <td>43</td>\n",
       "      <td>no</td>\n",
       "      <td>gray</td>\n",
       "      <td>male</td>\n",
       "    </tr>\n",
       "    <tr>\n",
       "      <th>...</th>\n",
       "      <td>...</td>\n",
       "      <td>...</td>\n",
       "      <td>...</td>\n",
       "      <td>...</td>\n",
       "      <td>...</td>\n",
       "      <td>...</td>\n",
       "      <td>...</td>\n",
       "      <td>...</td>\n",
       "    </tr>\n",
       "    <tr>\n",
       "      <th>75</th>\n",
       "      <td>65</td>\n",
       "      <td>99</td>\n",
       "      <td>no</td>\n",
       "      <td>short</td>\n",
       "      <td>39</td>\n",
       "      <td>yes</td>\n",
       "      <td>green</td>\n",
       "      <td>female</td>\n",
       "    </tr>\n",
       "    <tr>\n",
       "      <th>76</th>\n",
       "      <td>61</td>\n",
       "      <td>98</td>\n",
       "      <td>no</td>\n",
       "      <td>short</td>\n",
       "      <td>37</td>\n",
       "      <td>no</td>\n",
       "      <td>brown</td>\n",
       "      <td>female</td>\n",
       "    </tr>\n",
       "    <tr>\n",
       "      <th>77</th>\n",
       "      <td>67</td>\n",
       "      <td>119</td>\n",
       "      <td>yes</td>\n",
       "      <td>short</td>\n",
       "      <td>40</td>\n",
       "      <td>no</td>\n",
       "      <td>black</td>\n",
       "      <td>male</td>\n",
       "    </tr>\n",
       "    <tr>\n",
       "      <th>78</th>\n",
       "      <td>70</td>\n",
       "      <td>190</td>\n",
       "      <td>yes</td>\n",
       "      <td>medium</td>\n",
       "      <td>43</td>\n",
       "      <td>no</td>\n",
       "      <td>gray</td>\n",
       "      <td>male</td>\n",
       "    </tr>\n",
       "    <tr>\n",
       "      <th>79</th>\n",
       "      <td>62</td>\n",
       "      <td>142</td>\n",
       "      <td>yes</td>\n",
       "      <td>long</td>\n",
       "      <td>37</td>\n",
       "      <td>no</td>\n",
       "      <td>blue</td>\n",
       "      <td>female</td>\n",
       "    </tr>\n",
       "  </tbody>\n",
       "</table>\n",
       "<p>80 rows × 8 columns</p>\n",
       "</div>"
      ],
      "text/plain": [
       "    height  weight beard hair_length  shoe_size scarf eye_color  gender\n",
       "0       71     176   yes       short         44    no     black    male\n",
       "1       68     165    no        bald         41    no     black    male\n",
       "2       62     132    no      medium         37   yes      blue  female\n",
       "3       65     138    no        long         38    no      gray  female\n",
       "4       70     197   yes      medium         43    no      gray    male\n",
       "..     ...     ...   ...         ...        ...   ...       ...     ...\n",
       "75      65      99    no       short         39   yes     green  female\n",
       "76      61      98    no       short         37    no     brown  female\n",
       "77      67     119   yes       short         40    no     black    male\n",
       "78      70     190   yes      medium         43    no      gray    male\n",
       "79      62     142   yes        long         37    no      blue  female\n",
       "\n",
       "[80 rows x 8 columns]"
      ]
     },
     "execution_count": 2,
     "metadata": {},
     "output_type": "execute_result"
    }
   ],
   "source": [
    "df_genderprediction= pd.read_csv('gender-prediction.csv')\n",
    "df_genderprediction"
   ]
  },
  {
   "cell_type": "code",
   "execution_count": 3,
   "id": "2c4707e6",
   "metadata": {},
   "outputs": [],
   "source": [
    "#A= df_genderprediction.drop(columns=['gender'])\n",
    "weight= df_genderprediction['weight']\n",
    "height=df_genderprediction['height']\n",
    "shoe_size=df_genderprediction['shoe_size']\n",
    "B= df_genderprediction['gender']\n",
    "labels = preprocessing.LabelEncoder()\n",
    "\n",
    "Y= labels.fit_transform(B)\n",
    "Beard_encoded = labels.fit_transform(df_genderprediction['beard'])\n",
    "Beard_encoded\n",
    "Hair_encoded = labels.fit_transform(df_genderprediction['hair_length'])\n",
    "Hair_encoded\n",
    "Scarf_encoded = labels.fit_transform(df_genderprediction['scarf'])\n",
    "Scarf_encoded\n",
    "Eye_encoded = labels.fit_transform(df_genderprediction['eye_color'])\n",
    "Eye_encoded\n",
    "X=list(zip(Beard_encoded,Hair_encoded,Scarf_encoded,Eye_encoded,weight,height,shoe_size))\n",
    "\n",
    "\n"
   ]
  },
  {
   "cell_type": "code",
   "execution_count": 4,
   "id": "41fcdcd5",
   "metadata": {},
   "outputs": [
    {
     "data": {
      "text/plain": [
       "96.29629629629629"
      ]
     },
     "execution_count": 4,
     "metadata": {},
     "output_type": "execute_result"
    }
   ],
   "source": [
    "#Q2 (1)\n",
    "# Standard train/test split(67/33)\n",
    "X_train, x_test, Y_train, y_test = train_test_split(X, Y, test_size = 0.33)\n",
    "#Applying Random FOrest on Standard train/test split\n",
    "model = RandomForestClassifier()\n",
    "model.fit(X_train,Y_train)\n",
    "#PRediction\n",
    "prediction= model.predict(x_test)\n",
    "# Accuracy of prediction\n",
    "Accuracy= accuracy_score(y_test,prediction)*100\n",
    "Accuracy\n",
    "\n",
    "#model_cm = metrics.confusion_matrix(y_test, prediction)\n",
    "#print(model_cm)\n"
   ]
  },
  {
   "cell_type": "code",
   "execution_count": 5,
   "id": "ec6e81a6",
   "metadata": {},
   "outputs": [
    {
     "data": {
      "text/plain": [
       "70.37037037037037"
      ]
     },
     "execution_count": 5,
     "metadata": {},
     "output_type": "execute_result"
    }
   ],
   "source": [
    "#Q2 (1)\n",
    "#Applying Support vector Machine on Standard train/test split\n",
    "model = SVC()\n",
    "model.fit(X_train,Y_train)\n",
    "#PRediction\n",
    "prediction= model.predict(x_test)\n",
    "# Accuracy of prediction\n",
    "Accuracy= accuracy_score(y_test,prediction)*100\n",
    "Accuracy\n",
    "#model_cm = metrics.confusion_matrix(y_test, prediction)\n",
    "#print(model_cm)"
   ]
  },
  {
   "cell_type": "code",
   "execution_count": 6,
   "id": "fca3ea2e",
   "metadata": {},
   "outputs": [
    {
     "name": "stderr",
     "output_type": "stream",
     "text": [
      "C:\\Users\\DELL\\anaconda3\\lib\\site-packages\\sklearn\\neural_network\\_multilayer_perceptron.py:692: ConvergenceWarning: Stochastic Optimizer: Maximum iterations (200) reached and the optimization hasn't converged yet.\n",
      "  warnings.warn(\n"
     ]
    },
    {
     "data": {
      "text/plain": [
       "85.18518518518519"
      ]
     },
     "execution_count": 6,
     "metadata": {},
     "output_type": "execute_result"
    }
   ],
   "source": [
    "#Q2 (1)\n",
    "#Applying Mulilayer perceptron on Standard train/test split\n",
    "\n",
    "model=MLPClassifier()\n",
    "model.fit(X_train,Y_train)\n",
    "#PRediction\n",
    "prediction= model.predict(x_test)\n",
    "# Accuracy of prediction \n",
    "Accuracy= accuracy_score(y_test,prediction)*100\n",
    "Accuracy\n",
    "#model_cm = metrics.confusion_matrix(y_test, prediction)\n",
    "#print(model_cm)"
   ]
  },
  {
   "cell_type": "code",
   "execution_count": 7,
   "id": "dd0484cf",
   "metadata": {},
   "outputs": [
    {
     "data": {
      "text/plain": [
       "93.75"
      ]
     },
     "execution_count": 7,
     "metadata": {},
     "output_type": "execute_result"
    }
   ],
   "source": [
    "#Q2 (2):\n",
    "#Applying Random FOrest on 80/20  train/test split\n",
    "X_train, x_test, Y_train, y_test = train_test_split(X, Y, test_size = 0.20)\n",
    "model = RandomForestClassifier()\n",
    "model.fit(X_train,Y_train)\n",
    "#PRediction\n",
    "prediction= model.predict(x_test)\n",
    "# Accuracy of prediction\n",
    "Accuracy= accuracy_score(y_test,prediction)*100\n",
    "Accuracy\n",
    "#model_cm = metrics.confusion_matrix(y_test, prediction)\n",
    "#print(model_cm)"
   ]
  },
  {
   "cell_type": "code",
   "execution_count": 8,
   "id": "cdc0a5ae",
   "metadata": {},
   "outputs": [
    {
     "data": {
      "text/plain": [
       "0.6875"
      ]
     },
     "execution_count": 8,
     "metadata": {},
     "output_type": "execute_result"
    }
   ],
   "source": [
    "#Q 2(2):\n",
    "#Applying Support vector Machine on 80/20  train/test split\n",
    "X_train, x_test, Y_train, y_test = train_test_split(X, Y, test_size = 0.20)\n",
    "model = SVC()\n",
    "model.fit(X_train,Y_train)\n",
    "#PRediction\n",
    "prediction= model.predict(x_test)\n",
    "# Accuracy of prediction\n",
    "Accuracy= accuracy_score(y_test,prediction)\n",
    "Accuracy\n",
    "#model_cm = metrics.confusion_matrix(y_test, prediction)\n",
    "#print(model_cm)"
   ]
  },
  {
   "cell_type": "code",
   "execution_count": 9,
   "id": "81773f03",
   "metadata": {},
   "outputs": [
    {
     "name": "stdout",
     "output_type": "stream",
     "text": [
      "[[6 1]\n",
      " [0 9]]\n"
     ]
    },
    {
     "name": "stderr",
     "output_type": "stream",
     "text": [
      "C:\\Users\\DELL\\anaconda3\\lib\\site-packages\\sklearn\\neural_network\\_multilayer_perceptron.py:692: ConvergenceWarning: Stochastic Optimizer: Maximum iterations (200) reached and the optimization hasn't converged yet.\n",
      "  warnings.warn(\n"
     ]
    }
   ],
   "source": [
    "#Q 2(2):\n",
    "#Applying Mulilayer perceptron on 80/20  train/test split\n",
    "X_train, x_test, Y_train, y_test = train_test_split(X, Y, test_size = 0.20)\n",
    "model=MLPClassifier()\n",
    "model.fit(X_train,Y_train)\n",
    "#PRediction\n",
    "prediction= model.predict(x_test)\n",
    "# Accuracy of prediction \n",
    "Accuracy= accuracy_score(y_test,prediction)*100\n",
    "Accuracy\n",
    "model_cm = metrics.confusion_matrix(y_test, prediction)\n",
    "print(model_cm)\n"
   ]
  },
  {
   "cell_type": "code",
   "execution_count": 10,
   "id": "e6e78c6c",
   "metadata": {},
   "outputs": [
    {
     "name": "stdout",
     "output_type": "stream",
     "text": [
      "[[8 1]\n",
      " [0 7]]\n"
     ]
    },
    {
     "name": "stderr",
     "output_type": "stream",
     "text": [
      "C:\\Users\\DELL\\anaconda3\\lib\\site-packages\\sklearn\\neural_network\\_multilayer_perceptron.py:692: ConvergenceWarning: Stochastic Optimizer: Maximum iterations (200) reached and the optimization hasn't converged yet.\n",
      "  warnings.warn(\n"
     ]
    }
   ],
   "source": [
    "#Q2 (3)\n",
    "# by Exluding two power full attributes (Scarf and Beard)and applying it on MLP\n",
    "X1=list(zip(Hair_encoded,Eye_encoded,weight,height,shoe_size))\n",
    "X_train, x_test, Y_train, y_test = train_test_split(X1, Y, test_size = 0.20)\n",
    "model=MLPClassifier()\n",
    "model.fit(X_train,Y_train)\n",
    "#PRediction\n",
    "prediction= model.predict(x_test)\n",
    "# Accuracy of prediction \n",
    "Accuracy= accuracy_score(y_test,prediction)*100\n",
    "Accuracy\n",
    "model_cm = metrics.confusion_matrix(y_test, prediction)\n",
    "print(model_cm)"
   ]
  },
  {
   "cell_type": "code",
   "execution_count": 11,
   "id": "90380d81",
   "metadata": {},
   "outputs": [
    {
     "name": "stdout",
     "output_type": "stream",
     "text": [
      "[[ 1  2]\n",
      " [ 2 11]]\n"
     ]
    }
   ],
   "source": [
    "#Q2 (3)\n",
    "# by Exluding two power full attributes (Scarf and Beard) and applying it on SVC\n",
    "X1=list(zip(Hair_encoded,Eye_encoded,weight,height,shoe_size))\n",
    "X_train, x_test, Y_train, y_test = train_test_split(X1, Y, test_size = 0.20)\n",
    "model = SVC()\n",
    "model.fit(X_train,Y_train)\n",
    "#PRediction\n",
    "prediction= model.predict(x_test)\n",
    "# Accuracy of prediction\n",
    "Accuracy= accuracy_score(y_test,prediction)*100\n",
    "Accuracy\n",
    "model_cm = metrics.confusion_matrix(y_test, prediction)\n",
    "print(model_cm)"
   ]
  },
  {
   "cell_type": "code",
   "execution_count": 12,
   "id": "138b0d35",
   "metadata": {},
   "outputs": [
    {
     "name": "stdout",
     "output_type": "stream",
     "text": [
      "[[ 3  0]\n",
      " [ 1 12]]\n"
     ]
    }
   ],
   "source": [
    "#Q2 (3)\n",
    "# by Exluding two power full attributes (Scarf and Beard) and applying it on Random Forest\n",
    "X1=list(zip(Hair_encoded,Eye_encoded,weight,height,shoe_size))\n",
    "model = RandomForestClassifier()\n",
    "model.fit(X_train,Y_train)\n",
    "#PRediction\n",
    "prediction= model.predict(x_test)\n",
    "# Accuracy of prediction\n",
    "Accuracy= accuracy_score(y_test,prediction)*100\n",
    "Accuracy\n",
    "model_cm = metrics.confusion_matrix(y_test, prediction)\n",
    "print(model_cm)"
   ]
  },
  {
   "cell_type": "code",
   "execution_count": 13,
   "id": "92a144f4",
   "metadata": {},
   "outputs": [
    {
     "name": "stdout",
     "output_type": "stream",
     "text": [
      "              precision    recall  f1-score   support\n",
      "\n",
      "           0       1.00      0.50      0.67         2\n",
      "           1       0.75      1.00      0.86         3\n",
      "\n",
      "    accuracy                           0.80         5\n",
      "   macro avg       0.88      0.75      0.76         5\n",
      "weighted avg       0.85      0.80      0.78         5\n",
      "\n"
     ]
    }
   ],
   "source": [
    "# Q4\n",
    "# Testing on 5 sample( in gender-prediction-test.csv file) instances using Gaussian Naive Bayes\n",
    "model = GaussianNB()\n",
    "# Applying Traing on all data set\n",
    "model.fit(X,Y)\n",
    "\n",
    "#Displaying sample instances\n",
    "\n",
    "df_genderpredictiontest= pd.read_csv('gender-prediction-test.csv')\n",
    "df_genderpredictiontest\n",
    "# Separating input and output\n",
    "#ouput\n",
    "out_test= df_genderpredictiontest['gender']\n",
    "out_test\n",
    "#input\n",
    "weight= df_genderpredictiontest['weight']\n",
    "height= df_genderpredictiontest['height']\n",
    "eye_color= df_genderpredictiontest['eye_color']\n",
    "shoe_size= df_genderpredictiontest['shoe_size']\n",
    "scarf= df_genderpredictiontest['scarf']\n",
    "beard= df_genderpredictiontest['beard']\n",
    "hair_length= df_genderpredictiontest['hair_length']\n",
    "\n",
    "input_test= list(zip(beard,hair_length,scarf,eye_color,weight,height,shoe_size))\n",
    "input_test\n",
    "#PRediction\n",
    "prediction= model.predict(input_test)\n",
    "prediction\n",
    "#Accuracy of prediction\n",
    "Accuracy= accuracy_score(out_test,prediction)*100\n",
    "Accuracy\n",
    "model_cl_rep = metrics.classification_report(out_test, prediction)\n",
    "print(model_cl_rep)\n",
    "     \n"
   ]
  },
  {
   "cell_type": "code",
   "execution_count": 14,
   "id": "8831d3f5",
   "metadata": {},
   "outputs": [
    {
     "name": "stdout",
     "output_type": "stream",
     "text": [
      "0.9424334631613112\n"
     ]
    }
   ],
   "source": [
    "# Q:03\n",
    "# Leave P out cross validation\n",
    "model = DecisionTreeClassifier()\n",
    "lpo = LeavePOut(p=5)\n",
    "score_lpo = cross_val_score(model, X, Y, cv=lpo)\n",
    "avg_lpo_score = score_lpo.mean()\n",
    "print(avg_lpo_score)\n"
   ]
  },
  {
   "cell_type": "code",
   "execution_count": 16,
   "id": "992f9aca",
   "metadata": {},
   "outputs": [
    {
     "name": "stdout",
     "output_type": "stream",
     "text": [
      "0.9642857142857144\n"
     ]
    }
   ],
   "source": [
    "#Q: 03\n",
    "## Monte carlo Cross Validation\n",
    "model = DecisionTreeClassifier()\n",
    "ss = ShuffleSplit(train_size=0.66, test_size=0.34, n_splits = 5)\n",
    "score_ss = cross_val_score(model, X, Y, cv=ss)\n",
    "avg_ss_score = score_ss.mean()\n",
    "print(avg_ss_score)\n",
    "     "
   ]
  },
  {
   "cell_type": "code",
   "execution_count": null,
   "id": "9cf60ca8",
   "metadata": {},
   "outputs": [],
   "source": []
  }
 ],
 "metadata": {
  "kernelspec": {
   "display_name": "Python 3 (ipykernel)",
   "language": "python",
   "name": "python3"
  },
  "language_info": {
   "codemirror_mode": {
    "name": "ipython",
    "version": 3
   },
   "file_extension": ".py",
   "mimetype": "text/x-python",
   "name": "python",
   "nbconvert_exporter": "python",
   "pygments_lexer": "ipython3",
   "version": "3.9.13"
  }
 },
 "nbformat": 4,
 "nbformat_minor": 5
}
