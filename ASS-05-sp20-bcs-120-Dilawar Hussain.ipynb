{
 "cells": [
  {
   "cell_type": "code",
   "execution_count": 1,
   "id": "3ba94575",
   "metadata": {},
   "outputs": [],
   "source": [
    "import pandas as pd\n",
    "import numpy as np\n",
    "from numpy.linalg import norm\n",
    "import collections\n",
    "from sklearn.feature_extraction.text import TfidfVectorizer\n",
    "from sklearn.feature_extraction.text import CountVectorizer\n"
   ]
  },
  {
   "cell_type": "code",
   "execution_count": 2,
   "id": "e7a231c5",
   "metadata": {},
   "outputs": [],
   "source": [
    "s1 = 'sunshine state enjoy sunshine'\n",
    "s2 = 'brown fox jump high brown fox run'\n",
    "s3 = 'sunshine state fox run fast'\n"
   ]
  },
  {
   "cell_type": "code",
   "execution_count": 14,
   "id": "754f88b3",
   "metadata": {},
   "outputs": [],
   "source": [
    "bowS1 = s1.split(\" \")\n",
    "bowS2 = s2.split(\" \")\n",
    "bowS3 = s3.split(\" \")\n"
   ]
  },
  {
   "cell_type": "code",
   "execution_count": 22,
   "id": "9f4de9ae",
   "metadata": {},
   "outputs": [],
   "source": [
    "unique = set(bowS1).union(set(bowS2)).union(set(bowS3))\n",
    "Wdict1 = dict.fromkeys(unique, 0) \n",
    "Wdict2 = dict.fromkeys(unique, 0) \n",
    "Wdict3 = dict.fromkeys(unique, 0)\n",
    "for unique in bowS1:\n",
    "    Wdict1[unique]+=1\n",
    "\n",
    "for unique in bowS2:\n",
    "    Wdict2[unique]+=1\n",
    "\n",
    "for unique in bowS3:\n",
    "    Wdict3[unique]+=1\n",
    "    \n"
   ]
  },
  {
   "cell_type": "code",
   "execution_count": 23,
   "id": "3137a2a6",
   "metadata": {},
   "outputs": [],
   "source": [
    "def computeTF(Wdict, bow):\n",
    "    TFdict = {}\n",
    "    bowCount = len(bow)\n",
    "    for unique, count in Wdict.items():\n",
    "        TFdict[unique] = count/float(bowCount)\n",
    "    return TFdict"
   ]
  },
  {
   "cell_type": "code",
   "execution_count": 24,
   "id": "1786628b",
   "metadata": {},
   "outputs": [],
   "source": [
    "def computeIDF(Slist):\n",
    "    import math\n",
    "    IDFdict = {}\n",
    "    N = len(Slist)\n",
    "    \n",
    "    IDFdict = dict.fromkeys(Slist[0].keys(), 0)\n",
    "    for S in Slist:\n",
    "        for unique, val in S.items():\n",
    "            if val > 0:\n",
    "                IDFdict[unique] += 1\n",
    "    \n",
    "    for unique, val in IDFdict.items():\n",
    "        IDFdict[unique] = math.log10(N / float(val))\n",
    "        \n",
    "    return IDFdict"
   ]
  },
  {
   "cell_type": "code",
   "execution_count": 25,
   "id": "288b7a59",
   "metadata": {},
   "outputs": [
    {
     "data": {
      "text/plain": [
       "{'sunshine': 0.2,\n",
       " 'run': 0.2,\n",
       " 'fast': 0.2,\n",
       " 'jump': 0.0,\n",
       " 'enjoy': 0.0,\n",
       " 'fox': 0.2,\n",
       " 'brown': 0.0,\n",
       " 'high': 0.0,\n",
       " 'state': 0.2}"
      ]
     },
     "execution_count": 25,
     "metadata": {},
     "output_type": "execute_result"
    }
   ],
   "source": [
    "tf_S1 = computeTF(Wdict1, bowS1)\n",
    "tf_S2 = computeTF(Wdict2, bowS2)\n",
    "tf_S3 = computeTF(Wdict3, bowS3)\n",
    "     \n",
    "{'sunshine': 0.5, 'run': 0.0, 'fast': 0.0, 'jump': 0.0, 'enjoy': 0.25, 'fox': 0.0, 'brown': 0.0, 'high': 0.0, 'state': 0.25}\n",
    "{'sunshine': 0.0, 'run': 0.14285714285714285, 'fast': 0.0, 'jump': 0.14285714285714285, 'enjoy': 0.0, 'fox': 0.2857142857142857, 'brown': 0.2857142857142857, 'high': 0.14285714285714285, 'state': 0.0}\n",
    "{'sunshine': 0.2, 'run': 0.2, 'fast': 0.2, 'jump': 0.0, 'enjoy': 0.0, 'fox': 0.2, 'brown': 0.0, 'high': 0.0, 'state': 0.2}"
   ]
  },
  {
   "cell_type": "code",
   "execution_count": 28,
   "id": "31df14af",
   "metadata": {},
   "outputs": [
    {
     "data": {
      "text/plain": [
       "{'sunshine': 0.17609125905568124,\n",
       " 'run': 0.17609125905568124,\n",
       " 'fast': 0.47712125471966244,\n",
       " 'jump': 0.47712125471966244,\n",
       " 'enjoy': 0.47712125471966244,\n",
       " 'fox': 0.17609125905568124,\n",
       " 'brown': 0.47712125471966244,\n",
       " 'high': 0.47712125471966244,\n",
       " 'state': 0.17609125905568124}"
      ]
     },
     "execution_count": 28,
     "metadata": {},
     "output_type": "execute_result"
    }
   ],
   "source": [
    "Idf = computeIDF([Wdict1, Wdict2 , Wdict3])\n",
    "     \n",
    "{'sunshine': 0.17609125905568124, 'run': 0.17609125905568124, 'fast': 0.47712125471966244, 'jump': 0.47712125471966244, 'enjoy': 0.47712125471966244, 'fox': 0.17609125905568124, 'brown': 0.47712125471966244, 'high': 0.47712125471966244, 'state': 0.17609125905568124}"
   ]
  },
  {
   "cell_type": "code",
   "execution_count": 29,
   "id": "0f4acd60",
   "metadata": {},
   "outputs": [],
   "source": [
    "def computeTFIDF(tf_S, Idf):\n",
    "    TF_IDF = {}\n",
    "    for unique, val in tf_S.items():\n",
    "        TF_IDF[unique] = val*Idf[unique]\n",
    "    return TF_IDF"
   ]
  },
  {
   "cell_type": "code",
   "execution_count": 30,
   "id": "001ca795",
   "metadata": {},
   "outputs": [],
   "source": [
    "TF_IDF_S1 = computeTFIDF(tf_S1, Idf)\n",
    "TF_IDF_S2 = computeTFIDF(tf_S2, Idf)\n",
    "TF_IDF_S3 = computeTFIDF(tf_S3, Idf)"
   ]
  },
  {
   "cell_type": "code",
   "execution_count": 31,
   "id": "2c428f09",
   "metadata": {},
   "outputs": [
    {
     "data": {
      "text/html": [
       "<div>\n",
       "<style scoped>\n",
       "    .dataframe tbody tr th:only-of-type {\n",
       "        vertical-align: middle;\n",
       "    }\n",
       "\n",
       "    .dataframe tbody tr th {\n",
       "        vertical-align: top;\n",
       "    }\n",
       "\n",
       "    .dataframe thead th {\n",
       "        text-align: right;\n",
       "    }\n",
       "</style>\n",
       "<table border=\"1\" class=\"dataframe\">\n",
       "  <thead>\n",
       "    <tr style=\"text-align: right;\">\n",
       "      <th></th>\n",
       "      <th>brown</th>\n",
       "      <th>state</th>\n",
       "      <th>run</th>\n",
       "      <th>sunshine</th>\n",
       "      <th>jump</th>\n",
       "      <th>high</th>\n",
       "      <th>fast</th>\n",
       "      <th>fox</th>\n",
       "      <th>enjoy</th>\n",
       "    </tr>\n",
       "  </thead>\n",
       "  <tbody>\n",
       "    <tr>\n",
       "      <th>0</th>\n",
       "      <td>0.000000</td>\n",
       "      <td>0.25</td>\n",
       "      <td>0.000000</td>\n",
       "      <td>0.5</td>\n",
       "      <td>0.000000</td>\n",
       "      <td>0.000000</td>\n",
       "      <td>0.0</td>\n",
       "      <td>0.000000</td>\n",
       "      <td>0.25</td>\n",
       "    </tr>\n",
       "    <tr>\n",
       "      <th>1</th>\n",
       "      <td>0.285714</td>\n",
       "      <td>0.00</td>\n",
       "      <td>0.142857</td>\n",
       "      <td>0.0</td>\n",
       "      <td>0.142857</td>\n",
       "      <td>0.142857</td>\n",
       "      <td>0.0</td>\n",
       "      <td>0.285714</td>\n",
       "      <td>0.00</td>\n",
       "    </tr>\n",
       "    <tr>\n",
       "      <th>2</th>\n",
       "      <td>0.000000</td>\n",
       "      <td>0.20</td>\n",
       "      <td>0.200000</td>\n",
       "      <td>0.2</td>\n",
       "      <td>0.000000</td>\n",
       "      <td>0.000000</td>\n",
       "      <td>0.2</td>\n",
       "      <td>0.200000</td>\n",
       "      <td>0.00</td>\n",
       "    </tr>\n",
       "  </tbody>\n",
       "</table>\n",
       "</div>"
      ],
      "text/plain": [
       "      brown  state       run  sunshine      jump      high  fast       fox  \\\n",
       "0  0.000000   0.25  0.000000       0.5  0.000000  0.000000   0.0  0.000000   \n",
       "1  0.285714   0.00  0.142857       0.0  0.142857  0.142857   0.0  0.285714   \n",
       "2  0.000000   0.20  0.200000       0.2  0.000000  0.000000   0.2  0.200000   \n",
       "\n",
       "   enjoy  \n",
       "0   0.25  \n",
       "1   0.00  \n",
       "2   0.00  "
      ]
     },
     "execution_count": 31,
     "metadata": {},
     "output_type": "execute_result"
    }
   ],
   "source": [
    "pd.DataFrame([tf_S1, tf_S2, tf_S3])\n"
   ]
  },
  {
   "cell_type": "code",
   "execution_count": 32,
   "id": "790d975d",
   "metadata": {},
   "outputs": [
    {
     "data": {
      "text/html": [
       "<div>\n",
       "<style scoped>\n",
       "    .dataframe tbody tr th:only-of-type {\n",
       "        vertical-align: middle;\n",
       "    }\n",
       "\n",
       "    .dataframe tbody tr th {\n",
       "        vertical-align: top;\n",
       "    }\n",
       "\n",
       "    .dataframe thead th {\n",
       "        text-align: right;\n",
       "    }\n",
       "</style>\n",
       "<table border=\"1\" class=\"dataframe\">\n",
       "  <thead>\n",
       "    <tr style=\"text-align: right;\">\n",
       "      <th></th>\n",
       "      <th>brown</th>\n",
       "      <th>state</th>\n",
       "      <th>run</th>\n",
       "      <th>sunshine</th>\n",
       "      <th>jump</th>\n",
       "      <th>high</th>\n",
       "      <th>fast</th>\n",
       "      <th>fox</th>\n",
       "      <th>enjoy</th>\n",
       "    </tr>\n",
       "  </thead>\n",
       "  <tbody>\n",
       "    <tr>\n",
       "      <th>0</th>\n",
       "      <td>0.477121</td>\n",
       "      <td>0.176091</td>\n",
       "      <td>0.176091</td>\n",
       "      <td>0.176091</td>\n",
       "      <td>0.477121</td>\n",
       "      <td>0.477121</td>\n",
       "      <td>0.477121</td>\n",
       "      <td>0.176091</td>\n",
       "      <td>0.477121</td>\n",
       "    </tr>\n",
       "  </tbody>\n",
       "</table>\n",
       "</div>"
      ],
      "text/plain": [
       "      brown     state       run  sunshine      jump      high      fast  \\\n",
       "0  0.477121  0.176091  0.176091  0.176091  0.477121  0.477121  0.477121   \n",
       "\n",
       "        fox     enjoy  \n",
       "0  0.176091  0.477121  "
      ]
     },
     "execution_count": 32,
     "metadata": {},
     "output_type": "execute_result"
    }
   ],
   "source": [
    "pd.DataFrame([Idf])"
   ]
  },
  {
   "cell_type": "code",
   "execution_count": 33,
   "id": "8508b51a",
   "metadata": {},
   "outputs": [
    {
     "data": {
      "text/html": [
       "<div>\n",
       "<style scoped>\n",
       "    .dataframe tbody tr th:only-of-type {\n",
       "        vertical-align: middle;\n",
       "    }\n",
       "\n",
       "    .dataframe tbody tr th {\n",
       "        vertical-align: top;\n",
       "    }\n",
       "\n",
       "    .dataframe thead th {\n",
       "        text-align: right;\n",
       "    }\n",
       "</style>\n",
       "<table border=\"1\" class=\"dataframe\">\n",
       "  <thead>\n",
       "    <tr style=\"text-align: right;\">\n",
       "      <th></th>\n",
       "      <th>brown</th>\n",
       "      <th>state</th>\n",
       "      <th>run</th>\n",
       "      <th>sunshine</th>\n",
       "      <th>jump</th>\n",
       "      <th>high</th>\n",
       "      <th>fast</th>\n",
       "      <th>fox</th>\n",
       "      <th>enjoy</th>\n",
       "    </tr>\n",
       "  </thead>\n",
       "  <tbody>\n",
       "    <tr>\n",
       "      <th>0</th>\n",
       "      <td>0.00000</td>\n",
       "      <td>0.044023</td>\n",
       "      <td>0.000000</td>\n",
       "      <td>0.088046</td>\n",
       "      <td>0.00000</td>\n",
       "      <td>0.00000</td>\n",
       "      <td>0.000000</td>\n",
       "      <td>0.000000</td>\n",
       "      <td>0.11928</td>\n",
       "    </tr>\n",
       "    <tr>\n",
       "      <th>1</th>\n",
       "      <td>0.13632</td>\n",
       "      <td>0.000000</td>\n",
       "      <td>0.025156</td>\n",
       "      <td>0.000000</td>\n",
       "      <td>0.06816</td>\n",
       "      <td>0.06816</td>\n",
       "      <td>0.000000</td>\n",
       "      <td>0.050312</td>\n",
       "      <td>0.00000</td>\n",
       "    </tr>\n",
       "    <tr>\n",
       "      <th>2</th>\n",
       "      <td>0.00000</td>\n",
       "      <td>0.035218</td>\n",
       "      <td>0.035218</td>\n",
       "      <td>0.035218</td>\n",
       "      <td>0.00000</td>\n",
       "      <td>0.00000</td>\n",
       "      <td>0.095424</td>\n",
       "      <td>0.035218</td>\n",
       "      <td>0.00000</td>\n",
       "    </tr>\n",
       "  </tbody>\n",
       "</table>\n",
       "</div>"
      ],
      "text/plain": [
       "     brown     state       run  sunshine     jump     high      fast  \\\n",
       "0  0.00000  0.044023  0.000000  0.088046  0.00000  0.00000  0.000000   \n",
       "1  0.13632  0.000000  0.025156  0.000000  0.06816  0.06816  0.000000   \n",
       "2  0.00000  0.035218  0.035218  0.035218  0.00000  0.00000  0.095424   \n",
       "\n",
       "        fox    enjoy  \n",
       "0  0.000000  0.11928  \n",
       "1  0.050312  0.00000  \n",
       "2  0.035218  0.00000  "
      ]
     },
     "execution_count": 33,
     "metadata": {},
     "output_type": "execute_result"
    }
   ],
   "source": [
    "pd.DataFrame([TF_IDF_S1, TF_IDF_S2, TF_IDF_S3])"
   ]
  },
  {
   "cell_type": "code",
   "execution_count": 34,
   "id": "df247658",
   "metadata": {},
   "outputs": [],
   "source": [
    "C_S1 = np.array([2, 0, 0, 0, 1, 0, 0, 0, 1])\n",
    "C_S3 = np.array([1, 1, 1, 0, 0, 1, 0, 0, 1])"
   ]
  },
  {
   "cell_type": "code",
   "execution_count": 35,
   "id": "ae923a0a",
   "metadata": {},
   "outputs": [
    {
     "name": "stdout",
     "output_type": "stream",
     "text": [
      "Cosine Similarity =  0.5477225575051661\n"
     ]
    }
   ],
   "source": [
    "cosine = np.dot(C_S1,C_S3)/(norm(C_S1)*norm(C_S3))\n",
    "print(\"Cosine Similarity = \", cosine)"
   ]
  },
  {
   "cell_type": "code",
   "execution_count": null,
   "id": "24f74031",
   "metadata": {},
   "outputs": [],
   "source": []
  }
 ],
 "metadata": {
  "kernelspec": {
   "display_name": "Python 3 (ipykernel)",
   "language": "python",
   "name": "python3"
  },
  "language_info": {
   "codemirror_mode": {
    "name": "ipython",
    "version": 3
   },
   "file_extension": ".py",
   "mimetype": "text/x-python",
   "name": "python",
   "nbconvert_exporter": "python",
   "pygments_lexer": "ipython3",
   "version": "3.9.13"
  }
 },
 "nbformat": 4,
 "nbformat_minor": 5
}
